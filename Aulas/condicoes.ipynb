{
 "cells": [
  {
   "cell_type": "markdown",
   "metadata": {},
   "source": [
    "## Condições - IF"
   ]
  },
  {
   "cell_type": "markdown",
   "metadata": {},
   "source": [
    "Imagine que você faz parte da equipe de análise de vendas da Amazon, uma das maiores empresas de comércio eletrônico do mundo, que oferece uma vasta gama de produtos. Neste cenário, você está encarregado de desenvolver um programa para analisar o desempenho de vendas de um produto específico ao longo de um mês. Para simplificação, vamos considerar um único produto: uma televisão.\n",
    "\n",
    "A meta de vendas estipulada para o mês é de 70.000 unidades, e a quantidade de TVs vendidas foi de 78.000 unidades.\n",
    "\n",
    "O programa que você deve criar irá verificar se a meta de vendas foi alcançada e, se sim, deverá exibir uma mensagem informando quantas unidades foram vendidas, utilizando o comando print. Caso a meta não tenha sido alcançada, o programa não deverá imprimir nada.\n",
    "\n"
   ]
  },
  {
   "cell_type": "code",
   "execution_count": 5,
   "metadata": {},
   "outputs": [
    {
     "name": "stdout",
     "output_type": "stream",
     "text": [
      "Batemos a meta e a quantidade vendida foi de 78.000\n"
     ]
    }
   ],
   "source": [
    "meta_estipulada = 70.000\n",
    "qtd_vendida = 78.000\n",
    "\n",
    "if qtd_vendida > 70.000:\n",
    "    print(f'Batemos a meta e a quantidade vendida foi de {qtd_vendida:.3f}')"
   ]
  },
  {
   "cell_type": "markdown",
   "metadata": {},
   "source": [
    "### Agora faça um programa que se não bateu a meta exiba: Não batemos a meta, vendemos {} unidades e a meta era de: {}"
   ]
  },
  {
   "cell_type": "code",
   "execution_count": 6,
   "metadata": {},
   "outputs": [
    {
     "name": "stdout",
     "output_type": "stream",
     "text": [
      "Não batemos a meta, vendemos 20.000 unidades e a meta era de: 70.000\n"
     ]
    }
   ],
   "source": [
    "meta_estipulada = 70.000\n",
    "qtd_vendida = 20.000\n",
    "\n",
    "if qtd_vendida > 70.000:\n",
    "    print(f'Batemos a meta e a quantidade vendida foi de {qtd_vendida:.3f}')\n",
    "else:\n",
    "    print(f'Não batemos a meta, vendemos {qtd_vendida:.3f} unidades e a meta era de: {meta_estipulada:.3f}')"
   ]
  },
  {
   "cell_type": "markdown",
   "metadata": {},
   "source": [
    "____________________________________________________________________________________________________"
   ]
  },
  {
   "cell_type": "markdown",
   "metadata": {},
   "source": [
    "Imagine que você precise desenvolver um programa para um fundo de investimentos avaliar o desempenho de uma carteira de ações e determinar a taxa a ser cobrada.<br>\n",
    " O fundo tem as seguintes regras estabelecidas:\n",
    "\n",
    "1. O fundo se compromete a entregar no mínimo 5% de retorno ao ano.\n",
    "2. Caso o fundo não consiga alcançar os 5% de retorno, ele não pode cobrar taxa de seus investidores.\n",
    "3. Se o fundo alcançar mais de 5% de retorno, ele cobrará uma taxa de 2% sobre os rendimentos dos investidores.\n",
    "4. Se o fundo alcançar mais de 20% de retorno, ele cobrará uma taxa de 4% sobre os rendimentos dos investidores.\n",
    "\n",
    "Para implementar essas regras em um programa, você precisaria verificar o retorno anual obtido pela carteira de ações e decidir qual taxa aplicar com base nesses critérios."
   ]
  },
  {
   "cell_type": "code",
   "execution_count": 6,
   "metadata": {},
   "outputs": [
    {
     "name": "stdout",
     "output_type": "stream",
     "text": [
      "A taxa foi de 0.04\n"
     ]
    }
   ],
   "source": [
    "Entrega_min = 0.05\n",
    "taxa = 0\n",
    "rend = 0.51\n",
    "\n",
    "if rend > Entrega_min:\n",
    "    if rend > 0.20:\n",
    "        taxa = 0.04\n",
    "        print('A taxa foi de {}' .format(taxa))\n",
    "    else:\n",
    "        taxa = 0.02\n",
    "        print('A taxa foi de {}' .format(taxa))\n",
    "else:\n",
    "    taxa = 0\n",
    "    print('A taxa foi de {}' .format(taxa))"
   ]
  }
 ],
 "metadata": {
  "kernelspec": {
   "display_name": "Python 3",
   "language": "python",
   "name": "python3"
  },
  "language_info": {
   "codemirror_mode": {
    "name": "ipython",
    "version": 3
   },
   "file_extension": ".py",
   "mimetype": "text/x-python",
   "name": "python",
   "nbconvert_exporter": "python",
   "pygments_lexer": "ipython3",
   "version": "3.11.4"
  }
 },
 "nbformat": 4,
 "nbformat_minor": 2
}
