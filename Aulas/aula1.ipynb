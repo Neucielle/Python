{
 "cells": [
  {
   "cell_type": "markdown",
   "metadata": {},
   "source": [
    "### *Primeira aula Python - Básico*"
   ]
  },
  {
   "cell_type": "code",
   "execution_count": 1,
   "metadata": {},
   "outputs": [
    {
     "name": "stdout",
     "output_type": "stream",
     "text": [
      "Aula 01\n"
     ]
    }
   ],
   "source": [
    "print(\"Aula 01\")"
   ]
  },
  {
   "cell_type": "markdown",
   "metadata": {},
   "source": [
    "*Operações Matemáticas*"
   ]
  },
  {
   "cell_type": "code",
   "execution_count": null,
   "metadata": {},
   "outputs": [],
   "source": [
    "print(2 + 2) #Soma\n",
    "print(2 - 2) #Subtração\n",
    "print(2 * 3) #Multiplicação\n",
    "print(2 ** 3) #Potencia 2x2= 4 x 2= 8\n",
    "print(4 / 2) # Divisão\n",
    "print(7 % 3) # Resto da divisão"
   ]
  },
  {
   "cell_type": "markdown",
   "metadata": {},
   "source": [
    "*Strings* - _Python é Case Sensitive_"
   ]
  },
  {
   "cell_type": "code",
   "execution_count": 11,
   "metadata": {},
   "outputs": [
    {
     "name": "stdout",
     "output_type": "stream",
     "text": [
      "Meu nome é Neucielle\n",
      "Meu nome é  Neucielle\n",
      "False\n",
      "True\n"
     ]
    }
   ],
   "source": [
    "print(\"Meu nome é Neucielle\")\n",
    "print(\"Meu nome é \" + \" Neucielle\") #Concatenação\n",
    "print(\"Meu nome é\" in \" Nancy\") #Comparação V ou F => Nancy esta contido dentro de Meu nome?\n",
    "print(\"N\" in \"Nancy\") #N esta contido em Nancy?"
   ]
  },
  {
   "cell_type": "markdown",
   "metadata": {},
   "source": [
    "### Variáveis = Nome dados para determinado texto ou número"
   ]
  },
  {
   "cell_type": "code",
   "execution_count": 14,
   "metadata": {},
   "outputs": [
    {
     "name": "stdout",
     "output_type": "stream",
     "text": [
      "Neucielle Quadros\n"
     ]
    }
   ],
   "source": [
    "name = 'Neucielle'\n",
    "last_name = 'Quadros'\n",
    "print(name, last_name)"
   ]
  },
  {
   "cell_type": "markdown",
   "metadata": {},
   "source": [
    "### Inputs dentro do Python"
   ]
  },
  {
   "cell_type": "code",
   "execution_count": 6,
   "metadata": {},
   "outputs": [
    {
     "name": "stdout",
     "output_type": "stream",
     "text": [
      "Seja bem vindo(a) Neucielle\n"
     ]
    }
   ],
   "source": [
    "nome = input('Digite seu nome:') # Nome recebe entrada de usuário\n",
    "print('Seja bem vindo(a) '+ nome)"
   ]
  }
 ],
 "metadata": {
  "kernelspec": {
   "display_name": "base",
   "language": "python",
   "name": "python3"
  },
  "language_info": {
   "codemirror_mode": {
    "name": "ipython",
    "version": 3
   },
   "file_extension": ".py",
   "mimetype": "text/x-python",
   "name": "python",
   "nbconvert_exporter": "python",
   "pygments_lexer": "ipython3",
   "version": "3.11.7"
  }
 },
 "nbformat": 4,
 "nbformat_minor": 2
}
