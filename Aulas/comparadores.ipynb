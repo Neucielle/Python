{
 "cells": [
  {
   "cell_type": "markdown",
   "metadata": {},
   "source": [
    "# Comparadores\n",
    "\n",
    "**==**:     igual <br>\n",
    "**!=**:     diferente<br>\n",
    "**>**:      maior que (>= maior ou igual)<br>\n",
    "**<**:      menor que ( <= menor ou igual)<br>\n",
    "**in**:     texto existe dentro de outro texto<br>\n",
    "**not**:    verifica o contrario da comparação\n"
   ]
  },
  {
   "cell_type": "code",
   "execution_count": 1,
   "metadata": {},
   "outputs": [
    {
     "name": "stdout",
     "output_type": "stream",
     "text": [
      "Programa 01\n",
      "Os valores de vendas são iguais.\n"
     ]
    }
   ],
   "source": [
    "vendas_loja1 = 2500\n",
    "vendas_loja2 = 2500\n",
    "email_loja = 'loja@loja.com'\n",
    "\n",
    "print('Verificação 01')\n",
    "if vendas_loja1 == vendas_loja2:\n",
    "    print('Os valores de vendas são iguais.')\n",
    "else:\n",
    "    print('Valores diferentes.')\n"
   ]
  },
  {
   "cell_type": "code",
   "execution_count": 6,
   "metadata": {},
   "outputs": [
    {
     "name": "stdout",
     "output_type": "stream",
     "text": [
      "Verificação 02\n",
      "Email pass\n"
     ]
    }
   ],
   "source": [
    "print('Verificação 02')\n",
    "if email_loja != 'loja@loja.com':\n",
    "    print('Email não é válido')\n",
    "else:\n",
    "    print('Email pass')\n",
    "    "
   ]
  },
  {
   "cell_type": "code",
   "execution_count": 9,
   "metadata": {},
   "outputs": [
    {
     "name": "stdout",
     "output_type": "stream",
     "text": [
      "Verificação 03\n",
      "Email inválido, verifique seu email (Erro no @)\n"
     ]
    }
   ],
   "source": [
    "print('Verificação 03')\n",
    "email_usuario = input('Digite seu email:')\n",
    "if not '@' in email_usuario:\n",
    "    print('Email inválido, verifique seu email (falta o @)')\n",
    "else:\n",
    "    pass"
   ]
  }
 ],
 "metadata": {
  "kernelspec": {
   "display_name": "Python 3",
   "language": "python",
   "name": "python3"
  },
  "language_info": {
   "codemirror_mode": {
    "name": "ipython",
    "version": 3
   },
   "file_extension": ".py",
   "mimetype": "text/x-python",
   "name": "python",
   "nbconvert_exporter": "python",
   "pygments_lexer": "ipython3",
   "version": "3.11.4"
  }
 },
 "nbformat": 4,
 "nbformat_minor": 2
}
