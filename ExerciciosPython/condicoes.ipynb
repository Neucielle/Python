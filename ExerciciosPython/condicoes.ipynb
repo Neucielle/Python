{
 "cells": [
  {
   "cell_type": "markdown",
   "metadata": {},
   "source": [
    "## Calculo \n",
    "\n",
    "**Faça um programa onde calcule o bônus que os funcionarios devem receber, seguindo:**\n",
    "\n",
    "* Meta: 5000 vendas\n",
    "* Se o valor de venda for maior ou igual a meta, o valor do bonus é de 15% do valor de vendas.<br>\n",
    "* Caso contrário o bônus é 0.<br>\n",
    "* faça bonus de 4 funcionarios."
   ]
  },
  {
   "cell_type": "code",
   "execution_count": 9,
   "metadata": {},
   "outputs": [
    {
     "name": "stdout",
     "output_type": "stream",
     "text": [
      "Funcionario 1 não bateu a meta\n",
      "O funcionario 2 bateu a meta e ganhou 900.0 de bonus\n",
      "O funcionario 3 bateu a meta e ganhou 1350.0 de bonus\n",
      "Funcionario 4 não bateu a meta\n"
     ]
    }
   ],
   "source": [
    "funcionario1 = float(input('Digite o valor da sua venda: '))\n",
    "funcionario2 = float(input('Digite o valor da sua venda: '))\n",
    "funcionario3 = float(input('Digite o valor da sua venda: '))\n",
    "funcionario4 = float(input('Digite o valor da sua venda: '))\n",
    "\n",
    "bonus_base = 5000\n",
    "\n",
    "if funcionario1 >= bonus_base:\n",
    "    bonus1 = (funcionario1 * 15) / 100\n",
    "    print(f'O funcionario 1 bateu a meta e ganhou {bonus1} de bonus')\n",
    "else:\n",
    "    print('Funcionario 1 não bateu a meta')\n",
    "\n",
    "if funcionario2 >= bonus_base:\n",
    "    bonus2 = (funcionario2 * 15) / 100\n",
    "    print(f'O funcionario 2 bateu a meta e ganhou {bonus2} de bonus')\n",
    "else:\n",
    "    print('Funcionario 2 não bateu a meta')\n",
    "\n",
    "if funcionario3 >= bonus_base:\n",
    "    bonus3 = (funcionario3 * 15) / 100\n",
    "    print(f'O funcionario 3 bateu a meta e ganhou {bonus3} de bonus')\n",
    "else:\n",
    "    print('Funcionario 3 não bateu a meta')\n",
    "\n",
    "if funcionario4 >= bonus_base:\n",
    "    bonus4 = (funcionario4 * 15) / 100\n",
    "    print(f'O funcionario 4 bateu a meta e ganhou {bonus4} de bonus')\n",
    "else:\n",
    "    print('Funcionario 4 não bateu a meta')\n",
    "\n"
   ]
  },
  {
   "cell_type": "markdown",
   "metadata": {},
   "source": [
    "## Comparação e erros\n",
    "\n",
    "controle de vendas"
   ]
  },
  {
   "cell_type": "code",
   "execution_count": 18,
   "metadata": {},
   "outputs": [
    {
     "name": "stdout",
     "output_type": "stream",
     "text": [
      "Você não obteve lucro, esta negativo em -1000.00 Reais. \n",
      "\n"
     ]
    }
   ],
   "source": [
    "faturamento = input('Digite o faturamento desse mes:')\n",
    "custo = input('Agora digite o valor do custo:')\n",
    "\n",
    "if faturamento == '' or custo == '':\n",
    "    print('Preencha o faturamento e custo corretamente!')\n",
    "    \n",
    "lucro = int(faturamento) - int(custo)\n",
    "if lucro < 0:\n",
    "    print(f'Você não obteve lucro, esta negativo em {lucro:.2f} Reais. ')\n",
    "if custo > faturamento:\n",
    "    print('')\n",
    "else:\n",
    "    print(f'O lucro da loja foi {lucro:.2f} Reais')"
   ]
  }
 ],
 "metadata": {
  "kernelspec": {
   "display_name": "Python 3",
   "language": "python",
   "name": "python3"
  },
  "language_info": {
   "codemirror_mode": {
    "name": "ipython",
    "version": 3
   },
   "file_extension": ".py",
   "mimetype": "text/x-python",
   "name": "python",
   "nbconvert_exporter": "python",
   "pygments_lexer": "ipython3",
   "version": "3.11.4"
  }
 },
 "nbformat": 4,
 "nbformat_minor": 2
}
