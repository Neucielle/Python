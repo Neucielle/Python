{
 "cells": [
  {
   "cell_type": "markdown",
   "metadata": {},
   "source": [
    "Vamos criar um programa para analisar bonus de funcionarios.\n",
    "\n",
    "* A regra de bonus dos funcionarios é de acordo com a meta de venda de cada um.\n",
    "\n",
    "Se ela vendeu abaixo da meta, não ganha bônus<br>\n",
    "Se vendeu acima da meta, o bônus é de 3% do valor.<br>\n",
    "Se vendeu mais do que o dobro da metade, ela ganha bônus de 7%.\n",
    "\n",
    "Vamos avaliar uma pessoa com meta de R$ 20.000 e calcular o bonus dela."
   ]
  },
  {
   "cell_type": "code",
   "execution_count": 10,
   "metadata": {},
   "outputs": [
    {
     "name": "stdout",
     "output_type": "stream",
     "text": [
      "Seu bonus é de 7%, sendo assim seu bonus foi de 2100.00\n"
     ]
    }
   ],
   "source": [
    "meta = 20000\n",
    "\n",
    "venda = float(input('Digite o valor da venda:'))\n",
    "if venda > 30000:\n",
    "    bonus1 = (30000 * 7)/100\n",
    "    print(f'Seu bonus é de 7%, sendo assim seu bonus foi de {bonus1:.2f}')\n",
    "elif venda >= 20000:\n",
    "    bonus2 = (20000 * 3)/100\n",
    "    print(f'Seu bonus é de 3%, sendo assim seu bonus foi de {bonus2:.2f}')\n",
    "else:\n",
    "    print('Você não bateu a meta!')"
   ]
  }
 ],
 "metadata": {
  "kernelspec": {
   "display_name": "Python 3",
   "language": "python",
   "name": "python3"
  },
  "language_info": {
   "codemirror_mode": {
    "name": "ipython",
    "version": 3
   },
   "file_extension": ".py",
   "mimetype": "text/x-python",
   "name": "python",
   "nbconvert_exporter": "python",
   "pygments_lexer": "ipython3",
   "version": "3.11.4"
  }
 },
 "nbformat": 4,
 "nbformat_minor": 2
}
