{
 "cells": [
  {
   "cell_type": "code",
   "execution_count": 1,
   "metadata": {},
   "outputs": [
    {
     "name": "stdout",
     "output_type": "stream",
     "text": [
      "O número inteiro digitado é: 45\n"
     ]
    }
   ],
   "source": [
    "# Escreva um programa que converta uma string numérica fornecida pelo usuário para um número inteiro e o exiba na tela.\n",
    "\n",
    "entrada = input(\"Digite um número inteiro: \")\n",
    "numero_inteiro = int(entrada)\n",
    "print(f'O número inteiro digitado é: {numero_inteiro}')\n"
   ]
  },
  {
   "cell_type": "code",
   "execution_count": 2,
   "metadata": {},
   "outputs": [
    {
     "name": "stdout",
     "output_type": "stream",
     "text": [
      "O numero digitado foi: 3\n"
     ]
    }
   ],
   "source": [
    "#Escreva um programa que converta um número inteiro fornecido pelo usuário para uma string e a exiba na tela.\n",
    "\n",
    "num = int(input('Digite um numero inteiro: '))\n",
    "num_digitado = str(num)\n",
    "print(f'O numero digitado foi: {num_digitado}')"
   ]
  },
  {
   "cell_type": "code",
   "execution_count": 4,
   "metadata": {},
   "outputs": [
    {
     "name": "stdout",
     "output_type": "stream",
     "text": [
      "Ola nancy, seja bem vindo(a), voce tem 33 anos.\n"
     ]
    }
   ],
   "source": [
    "#Escreva um programa que solicite ao usuário seu nome e idade (em anos), converta a idade para uma string e exiba uma mensagem de saudação concatenando o nome e a idade.\n",
    "\n",
    "nome = input('Digite seu nome:')\n",
    "idade = int(input('Agora digite a sua idade:'))\n",
    "print(f'Ola {nome}, seja bem vindo(a), voce tem {idade} anos.'.format(idade))"
   ]
  }
 ],
 "metadata": {
  "kernelspec": {
   "display_name": "Python 3",
   "language": "python",
   "name": "python3"
  },
  "language_info": {
   "codemirror_mode": {
    "name": "ipython",
    "version": 3
   },
   "file_extension": ".py",
   "mimetype": "text/x-python",
   "name": "python",
   "nbconvert_exporter": "python",
   "pygments_lexer": "ipython3",
   "version": "3.11.4"
  }
 },
 "nbformat": 4,
 "nbformat_minor": 2
}
