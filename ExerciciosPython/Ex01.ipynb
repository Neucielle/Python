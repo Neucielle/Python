{
 "cells": [
  {
   "cell_type": "markdown",
   "metadata": {},
   "source": [
    "# Exercícios Módulo 01 - Operações, Variaveis e Input"
   ]
  },
  {
   "cell_type": "markdown",
   "metadata": {},
   "source": [
    "### 01 - Operações e Variáveis\n",
    "\n",
    "Crie um programa que imprima (print) os principais indicadores da loja no ultimo ano. OBS: Faça tudo usando variáveis\n",
    "\n",
    "\n",
    "*Valores do último ano*\n",
    "\n",
    "Quantidade de vendas de Coca-Cola = 150<br>\n",
    "Quantidade de vendas de Sprite = 130<br>\n",
    "Preço unitário da Coca-Cola = 1,50<br>\n",
    "Preço unitário da Sprite = 1,50<br>\n",
    "Custo da Loja: 2.500,00<br>\n"
   ]
  },
  {
   "cell_type": "code",
   "execution_count": 4,
   "metadata": {},
   "outputs": [],
   "source": [
    "# Criando todas as variáveis:\n",
    "\n",
    "venda_coca = 150\n",
    "venda_sprite = 130\n",
    "preco_coca = 1.50\n",
    "preco_sprite = 1.50\n",
    "custo_loja = 2500\n"
   ]
  },
  {
   "cell_type": "code",
   "execution_count": 5,
   "metadata": {},
   "outputs": [
    {
     "name": "stdout",
     "output_type": "stream",
     "text": [
      "O faturamento de vendas da sprite foi de:  195.0\n"
     ]
    }
   ],
   "source": [
    "# 1. Qual foi o faturamento de sprite da loja?\n",
    "\n",
    "faturamento = venda_sprite * preco_sprite\n",
    "print('O faturamento de vendas da sprite foi de: ', faturamento)"
   ]
  },
  {
   "cell_type": "code",
   "execution_count": 7,
   "metadata": {},
   "outputs": [
    {
     "name": "stdout",
     "output_type": "stream",
     "text": [
      "O faturamento de vendas da coca foi de:  225.0\n"
     ]
    }
   ],
   "source": [
    "# 2. Qual foi o faturamento da coca?\n",
    "\n",
    "faturamento2 = venda_coca * preco_coca\n",
    "print('O faturamento de vendas da coca foi de: ', faturamento2)"
   ]
  },
  {
   "cell_type": "code",
   "execution_count": 17,
   "metadata": {},
   "outputs": [
    {
     "name": "stdout",
     "output_type": "stream",
     "text": [
      "O lucro da loja já com o desconto do custo da loja é de :  -2080.0\n"
     ]
    }
   ],
   "source": [
    "# 3. Qual foi o lucro da loja?\n",
    "\n",
    "base = faturamento + faturamento2\n",
    "lucro = base - custo_loja\n",
    "\n",
    "print('O lucro da loja já com o desconto do custo da loja é de : ', lucro)"
   ]
  },
  {
   "cell_type": "code",
   "execution_count": 18,
   "metadata": {},
   "outputs": [
    {
     "name": "stdout",
     "output_type": "stream",
     "text": [
      "-4.9523809523809526\n"
     ]
    }
   ],
   "source": [
    "# 4. Qual foi a margem da loja?\n",
    "print(lucro / base)"
   ]
  },
  {
   "cell_type": "markdown",
   "metadata": {},
   "source": [
    "### 02 - Inputs e Strings"
   ]
  },
  {
   "cell_type": "markdown",
   "metadata": {},
   "source": [
    "A maioria das empresas trabalham com código para cada produto. A loja em questão, por exemplo, tem mais de 1.000 produtos e possui um cód para cada produto. \n",
    "\n",
    "Ex: Coca-Cola => cód: BEB1300543<br>\n",
    "Sprite => cód: BEB1300545<br>\n",
    "Vinho Case => cód: BAC1546001<br>\n",
    "Vódka => cód: BAC17675002<br>\n",
    "\n",
    "Repare que todas as bebidas não alcoolicas tem o inicio de cód \"BEB\" e todas as alcoolicas tem o inicio \"BAC\"\n",
    "\n",
    "Crie um programa de consulta de bebidaque, dado o código qualquer, identifique se a bebida é alcoolica. O prog deve responder TRUE para bebidas alcoolicas e FALSE para bebidas não alcoolicas. Para inserir um cód, use input.\n"
   ]
  },
  {
   "cell_type": "code",
   "execution_count": 25,
   "metadata": {},
   "outputs": [
    {
     "name": "stdout",
     "output_type": "stream",
     "text": [
      "True\n"
     ]
    }
   ],
   "source": [
    "cod = input('Digite o codigo da bebida: ')\n",
    "print('BAC' in cod)\n"
   ]
  }
 ],
 "metadata": {
  "kernelspec": {
   "display_name": "base",
   "language": "python",
   "name": "python3"
  },
  "language_info": {
   "codemirror_mode": {
    "name": "ipython",
    "version": 3
   },
   "file_extension": ".py",
   "mimetype": "text/x-python",
   "name": "python",
   "nbconvert_exporter": "python",
   "pygments_lexer": "ipython3",
   "version": "3.11.7"
  }
 },
 "nbformat": 4,
 "nbformat_minor": 2
}
